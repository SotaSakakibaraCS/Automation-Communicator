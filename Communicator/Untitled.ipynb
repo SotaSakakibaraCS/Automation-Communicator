{
 "cells": [
  {
   "cell_type": "code",
   "execution_count": 14,
   "id": "c04a1ef8-dc22-486a-9f42-db75f63a8c6c",
   "metadata": {},
   "outputs": [],
   "source": [
    "import serial"
   ]
  },
  {
   "cell_type": "code",
   "execution_count": 15,
   "id": "10f81af4-6bb6-41fa-a97f-4f92922405c9",
   "metadata": {},
   "outputs": [
    {
     "ename": "AttributeError",
     "evalue": "module 'serial' has no attribute 'Serial'",
     "output_type": "error",
     "traceback": [
      "\u001b[1;31m---------------------------------------------------------------------------\u001b[0m",
      "\u001b[1;31mAttributeError\u001b[0m                            Traceback (most recent call last)",
      "Cell \u001b[1;32mIn[15], line 1\u001b[0m\n\u001b[1;32m----> 1\u001b[0m ser \u001b[38;5;241m=\u001b[39m \u001b[43mserial\u001b[49m\u001b[38;5;241;43m.\u001b[39;49m\u001b[43mSerial\u001b[49m(\u001b[38;5;124m'\u001b[39m\u001b[38;5;124mCOM3\u001b[39m\u001b[38;5;124m'\u001b[39m, \u001b[38;5;241m9600\u001b[39m)  \u001b[38;5;66;03m# デバイス名とボーレートを設定しポートをオープン \u001b[39;00m\n",
      "\u001b[1;31mAttributeError\u001b[0m: module 'serial' has no attribute 'Serial'"
     ]
    }
   ],
   "source": [
    "ser = serial.Serial('COM3', 9600)  # デバイス名とボーレートを設定しポートをオープン "
   ]
  },
  {
   "cell_type": "code",
   "execution_count": null,
   "id": "6c2e284e-6b5d-477e-800e-88fa26ce2431",
   "metadata": {},
   "outputs": [],
   "source": [
    "ser.write(\"hello\")      # 出力"
   ]
  },
  {
   "cell_type": "code",
   "execution_count": 7,
   "id": "a2efd652-ef08-4fc2-a10e-1ed5c7ddf653",
   "metadata": {
    "scrolled": true
   },
   "outputs": [
    {
     "ename": "NameError",
     "evalue": "name 'ser' is not defined",
     "output_type": "error",
     "traceback": [
      "\u001b[1;31m---------------------------------------------------------------------------\u001b[0m",
      "\u001b[1;31mNameError\u001b[0m                                 Traceback (most recent call last)",
      "Cell \u001b[1;32mIn[7], line 1\u001b[0m\n\u001b[1;32m----> 1\u001b[0m \u001b[43mser\u001b[49m\u001b[38;5;241m.\u001b[39mclose()  \n",
      "\u001b[1;31mNameError\u001b[0m: name 'ser' is not defined"
     ]
    }
   ],
   "source": [
    "ser.close()  "
   ]
  },
  {
   "cell_type": "code",
   "execution_count": null,
   "id": "466e2d08-c3fe-4f61-940a-ec148ade5469",
   "metadata": {},
   "outputs": [],
   "source": []
  }
 ],
 "metadata": {
  "kernelspec": {
   "display_name": "Python 3 (ipykernel)",
   "language": "python",
   "name": "python3"
  },
  "language_info": {
   "codemirror_mode": {
    "name": "ipython",
    "version": 3
   },
   "file_extension": ".py",
   "mimetype": "text/x-python",
   "name": "python",
   "nbconvert_exporter": "python",
   "pygments_lexer": "ipython3",
   "version": "3.9.9"
  }
 },
 "nbformat": 4,
 "nbformat_minor": 5
}
